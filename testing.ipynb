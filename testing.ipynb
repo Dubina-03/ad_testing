{
 "cells": [
  {
   "cell_type": "markdown",
   "id": "a2f2a13a-c9fd-4b87-9fe4-d13923cd4727",
   "metadata": {},
   "source": [
    "- Importing libraries"
   ]
  },
  {
   "cell_type": "code",
   "execution_count": 1,
   "id": "e4bbd41d-839f-46ea-9bb5-b8c7da0b344f",
   "metadata": {},
   "outputs": [],
   "source": [
    "import numpy as np\n",
    "import pandas as pd \n",
    "import seaborn as sns\n",
    "import matplotlib.pyplot as plt\n",
    "\n",
    "from scipy.stats import shapiro\n",
    "import scipy.stats as stats"
   ]
  },
  {
   "cell_type": "markdown",
   "id": "f06036c4-144b-4a67-a65a-75c5a1bc3499",
   "metadata": {},
   "source": [
    "- Getting data"
   ]
  },
  {
   "cell_type": "code",
   "execution_count": 2,
   "id": "40401094-953b-4193-8a38-34a841ec4ad8",
   "metadata": {},
   "outputs": [
    {
     "data": {
      "text/html": [
       "<div>\n",
       "<style scoped>\n",
       "    .dataframe tbody tr th:only-of-type {\n",
       "        vertical-align: middle;\n",
       "    }\n",
       "\n",
       "    .dataframe tbody tr th {\n",
       "        vertical-align: top;\n",
       "    }\n",
       "\n",
       "    .dataframe thead th {\n",
       "        text-align: right;\n",
       "    }\n",
       "</style>\n",
       "<table border=\"1\" class=\"dataframe\">\n",
       "  <thead>\n",
       "    <tr style=\"text-align: right;\">\n",
       "      <th></th>\n",
       "      <th>auction_id</th>\n",
       "      <th>experiment</th>\n",
       "      <th>date</th>\n",
       "      <th>hour</th>\n",
       "      <th>device_make</th>\n",
       "      <th>platform_os</th>\n",
       "      <th>browser</th>\n",
       "      <th>yes</th>\n",
       "      <th>no</th>\n",
       "    </tr>\n",
       "  </thead>\n",
       "  <tbody>\n",
       "    <tr>\n",
       "      <th>0</th>\n",
       "      <td>0008ef63-77a7-448b-bd1e-075f42c55e39</td>\n",
       "      <td>exposed</td>\n",
       "      <td>2020-07-10</td>\n",
       "      <td>8</td>\n",
       "      <td>Generic Smartphone</td>\n",
       "      <td>6</td>\n",
       "      <td>Chrome Mobile</td>\n",
       "      <td>0</td>\n",
       "      <td>0</td>\n",
       "    </tr>\n",
       "    <tr>\n",
       "      <th>1</th>\n",
       "      <td>000eabc5-17ce-4137-8efe-44734d914446</td>\n",
       "      <td>exposed</td>\n",
       "      <td>2020-07-07</td>\n",
       "      <td>10</td>\n",
       "      <td>Generic Smartphone</td>\n",
       "      <td>6</td>\n",
       "      <td>Chrome Mobile</td>\n",
       "      <td>0</td>\n",
       "      <td>0</td>\n",
       "    </tr>\n",
       "    <tr>\n",
       "      <th>2</th>\n",
       "      <td>0016d14a-ae18-4a02-a204-6ba53b52f2ed</td>\n",
       "      <td>exposed</td>\n",
       "      <td>2020-07-05</td>\n",
       "      <td>2</td>\n",
       "      <td>E5823</td>\n",
       "      <td>6</td>\n",
       "      <td>Chrome Mobile WebView</td>\n",
       "      <td>0</td>\n",
       "      <td>1</td>\n",
       "    </tr>\n",
       "    <tr>\n",
       "      <th>3</th>\n",
       "      <td>00187412-2932-4542-a8ef-3633901c98d9</td>\n",
       "      <td>control</td>\n",
       "      <td>2020-07-03</td>\n",
       "      <td>15</td>\n",
       "      <td>Samsung SM-A705FN</td>\n",
       "      <td>6</td>\n",
       "      <td>Facebook</td>\n",
       "      <td>0</td>\n",
       "      <td>0</td>\n",
       "    </tr>\n",
       "    <tr>\n",
       "      <th>4</th>\n",
       "      <td>001a7785-d3fe-4e11-a344-c8735acacc2c</td>\n",
       "      <td>control</td>\n",
       "      <td>2020-07-03</td>\n",
       "      <td>15</td>\n",
       "      <td>Generic Smartphone</td>\n",
       "      <td>6</td>\n",
       "      <td>Chrome Mobile</td>\n",
       "      <td>0</td>\n",
       "      <td>0</td>\n",
       "    </tr>\n",
       "    <tr>\n",
       "      <th>...</th>\n",
       "      <td>...</td>\n",
       "      <td>...</td>\n",
       "      <td>...</td>\n",
       "      <td>...</td>\n",
       "      <td>...</td>\n",
       "      <td>...</td>\n",
       "      <td>...</td>\n",
       "      <td>...</td>\n",
       "      <td>...</td>\n",
       "    </tr>\n",
       "    <tr>\n",
       "      <th>8072</th>\n",
       "      <td>ffea24ec-cec1-43fb-b1d1-8f93828c2be2</td>\n",
       "      <td>exposed</td>\n",
       "      <td>2020-07-05</td>\n",
       "      <td>7</td>\n",
       "      <td>Generic Smartphone</td>\n",
       "      <td>6</td>\n",
       "      <td>Chrome Mobile</td>\n",
       "      <td>0</td>\n",
       "      <td>0</td>\n",
       "    </tr>\n",
       "    <tr>\n",
       "      <th>8073</th>\n",
       "      <td>ffea3210-2c3e-426f-a77d-0aa72e73b20f</td>\n",
       "      <td>control</td>\n",
       "      <td>2020-07-03</td>\n",
       "      <td>15</td>\n",
       "      <td>Generic Smartphone</td>\n",
       "      <td>6</td>\n",
       "      <td>Chrome Mobile</td>\n",
       "      <td>0</td>\n",
       "      <td>0</td>\n",
       "    </tr>\n",
       "    <tr>\n",
       "      <th>8074</th>\n",
       "      <td>ffeaa0f1-1d72-4ba9-afb4-314b3b00a7c7</td>\n",
       "      <td>control</td>\n",
       "      <td>2020-07-04</td>\n",
       "      <td>9</td>\n",
       "      <td>Generic Smartphone</td>\n",
       "      <td>6</td>\n",
       "      <td>Chrome Mobile</td>\n",
       "      <td>0</td>\n",
       "      <td>0</td>\n",
       "    </tr>\n",
       "    <tr>\n",
       "      <th>8075</th>\n",
       "      <td>ffeeed62-3f7c-4a6e-8ba7-95d303d40969</td>\n",
       "      <td>exposed</td>\n",
       "      <td>2020-07-05</td>\n",
       "      <td>15</td>\n",
       "      <td>Samsung SM-A515F</td>\n",
       "      <td>6</td>\n",
       "      <td>Samsung Internet</td>\n",
       "      <td>0</td>\n",
       "      <td>0</td>\n",
       "    </tr>\n",
       "    <tr>\n",
       "      <th>8076</th>\n",
       "      <td>fffbb9ff-568a-41a5-a0c3-6866592f80d8</td>\n",
       "      <td>control</td>\n",
       "      <td>2020-07-10</td>\n",
       "      <td>14</td>\n",
       "      <td>Samsung SM-G960F</td>\n",
       "      <td>6</td>\n",
       "      <td>Facebook</td>\n",
       "      <td>0</td>\n",
       "      <td>0</td>\n",
       "    </tr>\n",
       "  </tbody>\n",
       "</table>\n",
       "<p>8077 rows × 9 columns</p>\n",
       "</div>"
      ],
      "text/plain": [
       "                                auction_id experiment        date  hour  \\\n",
       "0     0008ef63-77a7-448b-bd1e-075f42c55e39    exposed  2020-07-10     8   \n",
       "1     000eabc5-17ce-4137-8efe-44734d914446    exposed  2020-07-07    10   \n",
       "2     0016d14a-ae18-4a02-a204-6ba53b52f2ed    exposed  2020-07-05     2   \n",
       "3     00187412-2932-4542-a8ef-3633901c98d9    control  2020-07-03    15   \n",
       "4     001a7785-d3fe-4e11-a344-c8735acacc2c    control  2020-07-03    15   \n",
       "...                                    ...        ...         ...   ...   \n",
       "8072  ffea24ec-cec1-43fb-b1d1-8f93828c2be2    exposed  2020-07-05     7   \n",
       "8073  ffea3210-2c3e-426f-a77d-0aa72e73b20f    control  2020-07-03    15   \n",
       "8074  ffeaa0f1-1d72-4ba9-afb4-314b3b00a7c7    control  2020-07-04     9   \n",
       "8075  ffeeed62-3f7c-4a6e-8ba7-95d303d40969    exposed  2020-07-05    15   \n",
       "8076  fffbb9ff-568a-41a5-a0c3-6866592f80d8    control  2020-07-10    14   \n",
       "\n",
       "             device_make  platform_os                browser  yes  no  \n",
       "0     Generic Smartphone            6          Chrome Mobile    0   0  \n",
       "1     Generic Smartphone            6          Chrome Mobile    0   0  \n",
       "2                  E5823            6  Chrome Mobile WebView    0   1  \n",
       "3      Samsung SM-A705FN            6               Facebook    0   0  \n",
       "4     Generic Smartphone            6          Chrome Mobile    0   0  \n",
       "...                  ...          ...                    ...  ...  ..  \n",
       "8072  Generic Smartphone            6          Chrome Mobile    0   0  \n",
       "8073  Generic Smartphone            6          Chrome Mobile    0   0  \n",
       "8074  Generic Smartphone            6          Chrome Mobile    0   0  \n",
       "8075    Samsung SM-A515F            6       Samsung Internet    0   0  \n",
       "8076    Samsung SM-G960F            6               Facebook    0   0  \n",
       "\n",
       "[8077 rows x 9 columns]"
      ]
     },
     "execution_count": 2,
     "metadata": {},
     "output_type": "execute_result"
    }
   ],
   "source": [
    "data = pd.read_csv(\"AdSmart.csv\")\n",
    "data"
   ]
  },
  {
   "cell_type": "markdown",
   "id": "d86ebe06-2b65-4c6b-a2f5-c0403ffd862f",
   "metadata": {},
   "source": [
    "- Checking and dealing with null values"
   ]
  },
  {
   "cell_type": "code",
   "execution_count": 3,
   "id": "908f6763-2bdd-4bf5-9440-98fd4c76d74a",
   "metadata": {},
   "outputs": [
    {
     "data": {
      "text/plain": [
       "auction_id     0\n",
       "experiment     0\n",
       "date           0\n",
       "hour           0\n",
       "device_make    0\n",
       "platform_os    0\n",
       "browser        0\n",
       "yes            0\n",
       "no             0\n",
       "dtype: int64"
      ]
     },
     "execution_count": 3,
     "metadata": {},
     "output_type": "execute_result"
    }
   ],
   "source": [
    "data.isnull().sum()"
   ]
  },
  {
   "cell_type": "code",
   "execution_count": 4,
   "id": "d70a28c3-4105-40c8-9b13-b4933f72f504",
   "metadata": {},
   "outputs": [
    {
     "data": {
      "text/plain": [
       "6834"
      ]
     },
     "execution_count": 4,
     "metadata": {},
     "output_type": "execute_result"
    }
   ],
   "source": [
    "#users that chose not to respond\n",
    "missed_respond = data[(data['yes']==0) & (data['no']==0)]\n",
    "len(missed_respond)"
   ]
  },
  {
   "cell_type": "code",
   "execution_count": 5,
   "id": "fe352a25-8d52-4192-9e65-d650d7b454d3",
   "metadata": {},
   "outputs": [
    {
     "data": {
      "text/html": [
       "<div>\n",
       "<style scoped>\n",
       "    .dataframe tbody tr th:only-of-type {\n",
       "        vertical-align: middle;\n",
       "    }\n",
       "\n",
       "    .dataframe tbody tr th {\n",
       "        vertical-align: top;\n",
       "    }\n",
       "\n",
       "    .dataframe thead th {\n",
       "        text-align: right;\n",
       "    }\n",
       "</style>\n",
       "<table border=\"1\" class=\"dataframe\">\n",
       "  <thead>\n",
       "    <tr style=\"text-align: right;\">\n",
       "      <th></th>\n",
       "      <th>auction_id</th>\n",
       "      <th>experiment</th>\n",
       "      <th>date</th>\n",
       "      <th>hour</th>\n",
       "      <th>device_make</th>\n",
       "      <th>platform_os</th>\n",
       "      <th>browser</th>\n",
       "      <th>yes</th>\n",
       "      <th>no</th>\n",
       "    </tr>\n",
       "  </thead>\n",
       "  <tbody>\n",
       "    <tr>\n",
       "      <th>2</th>\n",
       "      <td>0016d14a-ae18-4a02-a204-6ba53b52f2ed</td>\n",
       "      <td>exposed</td>\n",
       "      <td>2020-07-05</td>\n",
       "      <td>2</td>\n",
       "      <td>E5823</td>\n",
       "      <td>6</td>\n",
       "      <td>Chrome Mobile WebView</td>\n",
       "      <td>0</td>\n",
       "      <td>1</td>\n",
       "    </tr>\n",
       "    <tr>\n",
       "      <th>16</th>\n",
       "      <td>008aafdf-deef-4482-8fec-d98e3da054da</td>\n",
       "      <td>exposed</td>\n",
       "      <td>2020-07-04</td>\n",
       "      <td>16</td>\n",
       "      <td>Generic Smartphone</td>\n",
       "      <td>6</td>\n",
       "      <td>Chrome Mobile</td>\n",
       "      <td>1</td>\n",
       "      <td>0</td>\n",
       "    </tr>\n",
       "    <tr>\n",
       "      <th>20</th>\n",
       "      <td>00a1384a-5118-4d1b-925b-6cdada50318d</td>\n",
       "      <td>exposed</td>\n",
       "      <td>2020-07-06</td>\n",
       "      <td>8</td>\n",
       "      <td>Generic Smartphone</td>\n",
       "      <td>6</td>\n",
       "      <td>Chrome Mobile</td>\n",
       "      <td>0</td>\n",
       "      <td>1</td>\n",
       "    </tr>\n",
       "    <tr>\n",
       "      <th>23</th>\n",
       "      <td>00b6fadb-10bd-49e3-a778-290da82f7a8d</td>\n",
       "      <td>control</td>\n",
       "      <td>2020-07-08</td>\n",
       "      <td>4</td>\n",
       "      <td>Samsung SM-A202F</td>\n",
       "      <td>6</td>\n",
       "      <td>Facebook</td>\n",
       "      <td>1</td>\n",
       "      <td>0</td>\n",
       "    </tr>\n",
       "    <tr>\n",
       "      <th>27</th>\n",
       "      <td>00ebf4a8-060f-4b99-93ac-c62724399483</td>\n",
       "      <td>control</td>\n",
       "      <td>2020-07-03</td>\n",
       "      <td>15</td>\n",
       "      <td>Generic Smartphone</td>\n",
       "      <td>6</td>\n",
       "      <td>Chrome Mobile</td>\n",
       "      <td>0</td>\n",
       "      <td>1</td>\n",
       "    </tr>\n",
       "    <tr>\n",
       "      <th>...</th>\n",
       "      <td>...</td>\n",
       "      <td>...</td>\n",
       "      <td>...</td>\n",
       "      <td>...</td>\n",
       "      <td>...</td>\n",
       "      <td>...</td>\n",
       "      <td>...</td>\n",
       "      <td>...</td>\n",
       "      <td>...</td>\n",
       "    </tr>\n",
       "    <tr>\n",
       "      <th>8059</th>\n",
       "      <td>ffa08ff9-a132-4051-aef5-01a9c79367bc</td>\n",
       "      <td>exposed</td>\n",
       "      <td>2020-07-05</td>\n",
       "      <td>21</td>\n",
       "      <td>Generic Smartphone</td>\n",
       "      <td>6</td>\n",
       "      <td>Chrome Mobile</td>\n",
       "      <td>1</td>\n",
       "      <td>0</td>\n",
       "    </tr>\n",
       "    <tr>\n",
       "      <th>8063</th>\n",
       "      <td>ffb176df-ecd2-45d3-b05f-05b173a093a7</td>\n",
       "      <td>exposed</td>\n",
       "      <td>2020-07-04</td>\n",
       "      <td>1</td>\n",
       "      <td>Generic Smartphone</td>\n",
       "      <td>6</td>\n",
       "      <td>Chrome Mobile</td>\n",
       "      <td>1</td>\n",
       "      <td>0</td>\n",
       "    </tr>\n",
       "    <tr>\n",
       "      <th>8064</th>\n",
       "      <td>ffb79718-6f25-4896-b6b3-e58b80a6e147</td>\n",
       "      <td>control</td>\n",
       "      <td>2020-07-09</td>\n",
       "      <td>7</td>\n",
       "      <td>Generic Smartphone</td>\n",
       "      <td>6</td>\n",
       "      <td>Chrome Mobile</td>\n",
       "      <td>0</td>\n",
       "      <td>1</td>\n",
       "    </tr>\n",
       "    <tr>\n",
       "      <th>8069</th>\n",
       "      <td>ffca1153-c182-4f32-9e90-2a6008417497</td>\n",
       "      <td>control</td>\n",
       "      <td>2020-07-10</td>\n",
       "      <td>16</td>\n",
       "      <td>Generic Smartphone</td>\n",
       "      <td>6</td>\n",
       "      <td>Chrome Mobile</td>\n",
       "      <td>0</td>\n",
       "      <td>1</td>\n",
       "    </tr>\n",
       "    <tr>\n",
       "      <th>8071</th>\n",
       "      <td>ffdfdc09-48c7-4bfb-80f8-ec1eb633602b</td>\n",
       "      <td>exposed</td>\n",
       "      <td>2020-07-03</td>\n",
       "      <td>4</td>\n",
       "      <td>Generic Smartphone</td>\n",
       "      <td>6</td>\n",
       "      <td>Chrome Mobile</td>\n",
       "      <td>0</td>\n",
       "      <td>1</td>\n",
       "    </tr>\n",
       "  </tbody>\n",
       "</table>\n",
       "<p>1243 rows × 9 columns</p>\n",
       "</div>"
      ],
      "text/plain": [
       "                                auction_id experiment        date  hour  \\\n",
       "2     0016d14a-ae18-4a02-a204-6ba53b52f2ed    exposed  2020-07-05     2   \n",
       "16    008aafdf-deef-4482-8fec-d98e3da054da    exposed  2020-07-04    16   \n",
       "20    00a1384a-5118-4d1b-925b-6cdada50318d    exposed  2020-07-06     8   \n",
       "23    00b6fadb-10bd-49e3-a778-290da82f7a8d    control  2020-07-08     4   \n",
       "27    00ebf4a8-060f-4b99-93ac-c62724399483    control  2020-07-03    15   \n",
       "...                                    ...        ...         ...   ...   \n",
       "8059  ffa08ff9-a132-4051-aef5-01a9c79367bc    exposed  2020-07-05    21   \n",
       "8063  ffb176df-ecd2-45d3-b05f-05b173a093a7    exposed  2020-07-04     1   \n",
       "8064  ffb79718-6f25-4896-b6b3-e58b80a6e147    control  2020-07-09     7   \n",
       "8069  ffca1153-c182-4f32-9e90-2a6008417497    control  2020-07-10    16   \n",
       "8071  ffdfdc09-48c7-4bfb-80f8-ec1eb633602b    exposed  2020-07-03     4   \n",
       "\n",
       "             device_make  platform_os                browser  yes  no  \n",
       "2                  E5823            6  Chrome Mobile WebView    0   1  \n",
       "16    Generic Smartphone            6          Chrome Mobile    1   0  \n",
       "20    Generic Smartphone            6          Chrome Mobile    0   1  \n",
       "23      Samsung SM-A202F            6               Facebook    1   0  \n",
       "27    Generic Smartphone            6          Chrome Mobile    0   1  \n",
       "...                  ...          ...                    ...  ...  ..  \n",
       "8059  Generic Smartphone            6          Chrome Mobile    1   0  \n",
       "8063  Generic Smartphone            6          Chrome Mobile    1   0  \n",
       "8064  Generic Smartphone            6          Chrome Mobile    0   1  \n",
       "8069  Generic Smartphone            6          Chrome Mobile    0   1  \n",
       "8071  Generic Smartphone            6          Chrome Mobile    0   1  \n",
       "\n",
       "[1243 rows x 9 columns]"
      ]
     },
     "execution_count": 5,
     "metadata": {},
     "output_type": "execute_result"
    }
   ],
   "source": [
    "data.drop(missed_respond.index, inplace = True)\n",
    "data"
   ]
  },
  {
   "cell_type": "markdown",
   "id": "3b9c4363-fd96-4c62-a5a0-c1fd481efdbb",
   "metadata": {},
   "source": [
    "- Data Manipulation "
   ]
  },
  {
   "cell_type": "code",
   "execution_count": 6,
   "id": "b17fb303-e7e0-4662-85b5-b9ccdc0374d4",
   "metadata": {},
   "outputs": [],
   "source": [
    "#updating browswer column\n",
    "data['browser'] = ['Chrome' if i in ['Chrome Mobile WebView', 'Chrome Mobile', 'Chrome', 'Chrome Mobile iOS'] else i for i in data['browser']]\n",
    "data['browser'] = ['Safari' if i in ['Mobile Safari', 'Mobile Safari UI/WKWebView'] else i for i in data['browser']]"
   ]
  },
  {
   "cell_type": "code",
   "execution_count": 7,
   "id": "a9c342a6-1a5a-4fb6-afa1-fb2e656d76e0",
   "metadata": {},
   "outputs": [
    {
     "data": {
      "text/plain": [
       "array(['other', 'Generic Smartphone', 'Samsung', 'I3312', 'MRD-LX1',\n",
       "       'Moto $2', 'ELE', 'VOG', 'LG-$2', 'ANE-LX1', 'POT-LX1', 'OnePlus',\n",
       "       'HTC', 'iPhone', 'XiaoMi', 'Nokia', 'MAR-LX1A', 'CLT-L09', 'Pixel',\n",
       "       'VFD'], dtype=object)"
      ]
     },
     "execution_count": 7,
     "metadata": {},
     "output_type": "execute_result"
    }
   ],
   "source": [
    "#updating device_make column\n",
    "data.device_make.unique()\n",
    "\n",
    "for k, i in enumerate(data.device_make):\n",
    "    if 'Samsung' in i:\n",
    "        data.iloc[k, 4] = 'Samsung'\n",
    "    elif 'XiaoMi' in i:\n",
    "        data.iloc[k, 4] = 'XiaoMi'\n",
    "    elif 'OnePlus' in i:\n",
    "        data.iloc[k, 4] = 'OnePlus'\n",
    "    elif 'Nokia' in i:\n",
    "        data.iloc[k, 4] = 'Nokia'\n",
    "    elif 'ELE' in i:\n",
    "        data.iloc[k, 4] = 'ELE'\n",
    "    elif 'HTC' in i:\n",
    "        data.iloc[k, 4] = 'HTC'\n",
    "    elif 'Pixel' in i:\n",
    "        data.iloc[k, 4] = 'Pixel'\n",
    "    elif 'VFD' in i:\n",
    "        data.iloc[k, 4] = 'VFD'\n",
    "    elif 'VOG' in i:\n",
    "        data.iloc[k, 4] = 'VOG'\n",
    "    elif list(data.device_make).count(i) < 4:\n",
    "        data.iloc[k, 4] = 'other'\n",
    "    else:\n",
    "        data.iloc[k, 4] = i\n",
    "\n",
    "data.device_make.unique()      "
   ]
  },
  {
   "cell_type": "markdown",
   "id": "e71b1dfe-1234-4d73-9e46-e0b2a50df6b3",
   "metadata": {},
   "source": [
    "### Hypothesis:\n",
    "  \n",
    "  H0: there is no difference between success of new and old advertisment  \n",
    "      Ha: there is difference between success of new and old advertisment"
   ]
  },
  {
   "cell_type": "code",
   "execution_count": 8,
   "id": "0cf3db9c-c870-4b78-8e55-5cea6484b759",
   "metadata": {},
   "outputs": [
    {
     "name": "stderr",
     "output_type": "stream",
     "text": [
      "C:\\Users\\olyad\\AppData\\Local\\Temp\\ipykernel_8468\\3966141595.py:1: FutureWarning: Indexing with multiple keys (implicitly converted to a tuple of keys) will be deprecated, use a list instead.\n",
      "  data.groupby('experiment')['yes','no'].sum()\n"
     ]
    },
    {
     "data": {
      "text/html": [
       "<div>\n",
       "<style scoped>\n",
       "    .dataframe tbody tr th:only-of-type {\n",
       "        vertical-align: middle;\n",
       "    }\n",
       "\n",
       "    .dataframe tbody tr th {\n",
       "        vertical-align: top;\n",
       "    }\n",
       "\n",
       "    .dataframe thead th {\n",
       "        text-align: right;\n",
       "    }\n",
       "</style>\n",
       "<table border=\"1\" class=\"dataframe\">\n",
       "  <thead>\n",
       "    <tr style=\"text-align: right;\">\n",
       "      <th></th>\n",
       "      <th>yes</th>\n",
       "      <th>no</th>\n",
       "    </tr>\n",
       "    <tr>\n",
       "      <th>experiment</th>\n",
       "      <th></th>\n",
       "      <th></th>\n",
       "    </tr>\n",
       "  </thead>\n",
       "  <tbody>\n",
       "    <tr>\n",
       "      <th>control</th>\n",
       "      <td>264</td>\n",
       "      <td>322</td>\n",
       "    </tr>\n",
       "    <tr>\n",
       "      <th>exposed</th>\n",
       "      <td>308</td>\n",
       "      <td>349</td>\n",
       "    </tr>\n",
       "  </tbody>\n",
       "</table>\n",
       "</div>"
      ],
      "text/plain": [
       "            yes   no\n",
       "experiment          \n",
       "control     264  322\n",
       "exposed     308  349"
      ]
     },
     "execution_count": 8,
     "metadata": {},
     "output_type": "execute_result"
    }
   ],
   "source": [
    "data.groupby('experiment')['yes','no'].sum()"
   ]
  },
  {
   "cell_type": "markdown",
   "id": "18d8ab2f-a13a-453a-875f-8eaf6b11eddc",
   "metadata": {},
   "source": [
    "In onther words:\n",
    "    \n",
    "    H0: p_control - p_exposed = 0\n",
    "    Ha: p_control - p_exposed != 0\n",
    "    where p is a proportion of yes to overall respond\n",
    "As sample sizes are large: control_n = 586, exposed_n = 657. And we have numeric vs categorical, so we can use z-test to check our hypothesis."
   ]
  },
  {
   "cell_type": "code",
   "execution_count": 9,
   "id": "2e09b6a7-f78a-4a04-b50a-167dee16d12d",
   "metadata": {},
   "outputs": [
    {
     "name": "stdout",
     "output_type": "stream",
     "text": [
      "z_stat: -0.64568, p_value: 0.51849\n",
      "Fail to reject the null hypothesis - there is no difference between success of new and old advertisment\n"
     ]
    }
   ],
   "source": [
    "from statsmodels.stats.proportion import proportions_ztest\n",
    "import numpy as np\n",
    "\n",
    "# can we assume anything from our sample\n",
    "significance = 0.05\n",
    "\n",
    "# our samples - 82% are good in one, and ~79% are good in the other\n",
    "# note - the samples do not need to be the same size\n",
    "sample_success_a, sample_size_a = (len(data[(data.experiment=='control') & (data.yes==1)]), len(data[data.experiment=='control']))\n",
    "sample_success_b, sample_size_b = (len(data[(data.experiment=='exposed') & (data.yes==1)]), len(data[data.experiment=='exposed']))\n",
    "\n",
    "# check our sample against Ho for Ha != Ho\n",
    "successes = np.array([sample_success_a, sample_success_b])\n",
    "samples = np.array([sample_size_a, sample_size_b])\n",
    "\n",
    "# note, no need for a Ho value here - it's derived from the other parameters\n",
    "stat, p_value = proportions_ztest(count=successes, nobs=samples,  alternative='two-sided')\n",
    "\n",
    "# report\n",
    "print('z_stat: %0.5f, p_value: %0.5f' % (stat, p_value))\n",
    "\n",
    "if p_value > significance:\n",
    "   print (\"Fail to reject the null hypothesis - there is no difference between success of new and old advertisment\")\n",
    "else:\n",
    "   print (\"Reject the null hypothesis - there is difference between success of new and old advertisment\")"
   ]
  },
  {
   "cell_type": "markdown",
   "id": "e030cdc9-490e-452f-a66b-a03d4a7ff739",
   "metadata": {},
   "source": [
    "As we can see the p-value is too big too reject the null hypothesis \n",
    "\n",
    "#### Confidence interval"
   ]
  },
  {
   "cell_type": "code",
   "execution_count": 10,
   "id": "dfbf2d79-491a-4027-adf7-3131c0b8f371",
   "metadata": {},
   "outputs": [
    {
     "name": "stdout",
     "output_type": "stream",
     "text": [
      "1.959963984540054 0.95 [-0.07377294  0.0372017 ]\n"
     ]
    }
   ],
   "source": [
    "prop_a = sample_success_a / sample_size_a\n",
    "prop_b = sample_success_b / sample_size_b\n",
    "\n",
    "se_a = np.sqrt(prop_a * (1 - prop_a) / sample_size_a)\n",
    "se_b = np.sqrt(prop_b * (1 - prop_b) / sample_size_b)\n",
    "se = np.sqrt(se_a**2 + se_b**2)\n",
    "\n",
    "# z critical value\n",
    "confidence = 1 - significance\n",
    "z = stats.norm(loc = 0, scale = 1).ppf(confidence + significance / 2)\n",
    "\n",
    "# standard formula for the confidence interval\n",
    "# point-estimtate +- z * standard-error\n",
    "prop_diff = prop_a - prop_b\n",
    "confint = prop_diff + np.array([-1, 1]) * z * se\n",
    "\n",
    "print(z, confidence, confint)"
   ]
  },
  {
   "cell_type": "markdown",
   "id": "cceafb39-0d75-4c15-8d19-52ed357e103b",
   "metadata": {},
   "source": [
    "or"
   ]
  },
  {
   "cell_type": "code",
   "execution_count": 11,
   "id": "0bb65763-c51c-451c-9cbd-22895d6f28cf",
   "metadata": {},
   "outputs": [
    {
     "data": {
      "text/plain": [
       "(-0.07359626403500129, 0.0372181096738865)"
      ]
     },
     "execution_count": 11,
     "metadata": {},
     "output_type": "execute_result"
    }
   ],
   "source": [
    "from statsmodels.stats.proportion import confint_proportions_2indep\n",
    "confint_proportions_2indep(sample_success_a, sample_size_a, sample_success_b, sample_size_b, method=\"score\", compare='diff', alpha=0.05, correction=True)"
   ]
  },
  {
   "cell_type": "markdown",
   "id": "56740831-0f3f-4d84-8c9a-fa5c72364a22",
   "metadata": {},
   "source": [
    "As we can see the 0 value is inside our confidence interval, so we can say that there is no significant difference between old and new advertisments"
   ]
  },
  {
   "cell_type": "markdown",
   "id": "9d536b7d-fd98-4de6-be27-abba6e2ab55e",
   "metadata": {},
   "source": [
    "\n",
    "\n",
    "- Let's look at differnt features "
   ]
  },
  {
   "cell_type": "code",
   "execution_count": 12,
   "id": "bb378ce4-803a-4d59-acce-8cea5f795ce7",
   "metadata": {},
   "outputs": [
    {
     "data": {
      "text/plain": [
       "<AxesSubplot:xlabel='browser', ylabel='yes'>"
      ]
     },
     "execution_count": 12,
     "metadata": {},
     "output_type": "execute_result"
    },
    {
     "data": {
      "image/png": "[encoded data removed]",
      "text/plain": [
       "<Figure size 1080x720 with 1 Axes>"
      ]
     },
     "metadata": {
      "needs_background": "light"
     },
     "output_type": "display_data"
    }
   ],
   "source": [
    "plt.figure(figsize=(15,10))\n",
    "sns.barplot(data=data, x=\"browser\", y=\"yes\", hue=\"experiment\")"
   ]
  },
  {
   "cell_type": "markdown",
   "id": "428cbcef-0a37-4845-a296-507ae52aed5c",
   "metadata": {},
   "source": [
    "We can see that there are some positive difference with chrome browser, so let's check if this difference is significant\n",
    "\n",
    "H0: p_control_chrome - p_exposed_chrome = 0  \n",
    "          Ha: p_control_chrome - p_exposed_chrome != 0"
   ]
  },
  {
   "cell_type": "code",
   "execution_count": 13,
   "id": "5c56828d-2896-42f6-b81f-4ab62d7f0597",
   "metadata": {},
   "outputs": [
    {
     "name": "stdout",
     "output_type": "stream",
     "text": [
      "z_stat: -1.50482, p_value: 0.13237\n",
      "Fail to reject the null hypothesis - there is no difference between success of new and old advertisment\n"
     ]
    }
   ],
   "source": [
    "# can we assume anything from our sample\n",
    "significance = 0.05\n",
    "\n",
    "# our samples - 82% are good in one, and ~79% are good in the other\n",
    "# note - the samples do not need to be the same size\n",
    "chrome_success_a, chrome_size_a = (len(data[(data.browser=='Chrome') & (data.experiment=='control') & (data.yes==1)]), len(data[(data.browser=='Chrome') & (data.experiment=='control')]))\n",
    "chrome_success_b, chrome_size_b = (len(data[(data.browser=='Chrome') & (data.experiment=='exposed') & (data.yes==1)]), len(data[(data.browser=='Chrome') & (data.experiment=='exposed')]))\n",
    "\n",
    "# check our sample against Ho for Ha != Ho\n",
    "successes_chrome = np.array([chrome_success_a, chrome_success_b])\n",
    "samples_chrome = np.array([chrome_size_a, chrome_size_b])\n",
    "\n",
    "# note, no need for a Ho value here - it's derived from the other parameters\n",
    "stat_chrome, p_value_chrome = proportions_ztest(count=successes_chrome, nobs=samples_chrome,  alternative='two-sided')\n",
    "\n",
    "# report\n",
    "print('z_stat: %0.5f, p_value: %0.5f' % (stat_chrome, p_value_chrome))\n",
    "\n",
    "if p_value_chrome > significance:\n",
    "   print (\"Fail to reject the null hypothesis - there is no difference between success of new and old advertisment\")\n",
    "else:\n",
    "   print (\"Reject the null hypothesis - there is difference between success of new and old advertisment\")"
   ]
  },
  {
   "cell_type": "code",
   "execution_count": 14,
   "id": "17f8f211-6707-44be-a90c-5c5262e18616",
   "metadata": {},
   "outputs": [
    {
     "data": {
      "text/plain": [
       "<AxesSubplot:xlabel='platform_os', ylabel='yes'>"
      ]
     },
     "execution_count": 14,
     "metadata": {},
     "output_type": "execute_result"
    },
    {
     "data": {
      "image/png": "[encoded data removed]",
      "text/plain": [
       "<Figure size 1080x720 with 1 Axes>"
      ]
     },
     "metadata": {
      "needs_background": "light"
     },
     "output_type": "display_data"
    }
   ],
   "source": [
    "plt.figure(figsize=(15,10))\n",
    "sns.barplot(data=data, x=\"platform_os\", y=\"yes\", hue=\"experiment\")"
   ]
  },
  {
   "cell_type": "markdown",
   "id": "bd27fc5a-588d-4b0c-9128-f7a1628f90f6",
   "metadata": {},
   "source": [
    "There is no significant difference between values"
   ]
  },
  {
   "cell_type": "code",
   "execution_count": 15,
   "id": "343891a0-7091-4a8d-aede-d21765e0fd71",
   "metadata": {},
   "outputs": [
    {
     "data": {
      "text/plain": [
       "<AxesSubplot:xlabel='device_make', ylabel='yes'>"
      ]
     },
     "execution_count": 15,
     "metadata": {},
     "output_type": "execute_result"
    },
    {
     "data": {
      "image/png": "[encoded data removed]",
      "text/plain": [
       "<Figure size 1296x720 with 1 Axes>"
      ]
     },
     "metadata": {
      "needs_background": "light"
     },
     "output_type": "display_data"
    }
   ],
   "source": [
    "plt.figure(figsize=(18,10))\n",
    "sns.barplot(data=data, x=\"device_make\", y=\"yes\", hue=\"experiment\")"
   ]
  },
  {
   "cell_type": "markdown",
   "id": "5db6ac88-8b84-4cf0-8d71-2735109bbfd6",
   "metadata": {},
   "source": [
    "So as we can see we can check the 'other', 'POT-LX1', 'Xiaoma' devices\n",
    "\n",
    "But firstly let's check the sizes of samles"
   ]
  },
  {
   "cell_type": "code",
   "execution_count": 16,
   "id": "aa75c0bd-bbfa-4d37-ba84-593799ee4c0d",
   "metadata": {},
   "outputs": [
    {
     "name": "stderr",
     "output_type": "stream",
     "text": [
      "C:\\Users\\olyad\\AppData\\Local\\Temp\\ipykernel_8468\\4294209550.py:1: FutureWarning: Indexing with multiple keys (implicitly converted to a tuple of keys) will be deprecated, use a list instead.\n",
      "  data.groupby(['device_make', 'experiment'])['yes','no'].sum()\n"
     ]
    },
    {
     "data": {
      "text/html": [
       "<div>\n",
       "<style scoped>\n",
       "    .dataframe tbody tr th:only-of-type {\n",
       "        vertical-align: middle;\n",
       "    }\n",
       "\n",
       "    .dataframe tbody tr th {\n",
       "        vertical-align: top;\n",
       "    }\n",
       "\n",
       "    .dataframe thead th {\n",
       "        text-align: right;\n",
       "    }\n",
       "</style>\n",
       "<table border=\"1\" class=\"dataframe\">\n",
       "  <thead>\n",
       "    <tr style=\"text-align: right;\">\n",
       "      <th></th>\n",
       "      <th></th>\n",
       "      <th>yes</th>\n",
       "      <th>no</th>\n",
       "    </tr>\n",
       "    <tr>\n",
       "      <th>device_make</th>\n",
       "      <th>experiment</th>\n",
       "      <th></th>\n",
       "      <th></th>\n",
       "    </tr>\n",
       "  </thead>\n",
       "  <tbody>\n",
       "    <tr>\n",
       "      <th rowspan=\"2\" valign=\"top\">ANE-LX1</th>\n",
       "      <th>control</th>\n",
       "      <td>2</td>\n",
       "      <td>2</td>\n",
       "    </tr>\n",
       "    <tr>\n",
       "      <th>exposed</th>\n",
       "      <td>1</td>\n",
       "      <td>1</td>\n",
       "    </tr>\n",
       "    <tr>\n",
       "      <th rowspan=\"2\" valign=\"top\">CLT-L09</th>\n",
       "      <th>control</th>\n",
       "      <td>0</td>\n",
       "      <td>3</td>\n",
       "    </tr>\n",
       "    <tr>\n",
       "      <th>exposed</th>\n",
       "      <td>0</td>\n",
       "      <td>2</td>\n",
       "    </tr>\n",
       "    <tr>\n",
       "      <th rowspan=\"2\" valign=\"top\">ELE</th>\n",
       "      <th>control</th>\n",
       "      <td>2</td>\n",
       "      <td>1</td>\n",
       "    </tr>\n",
       "    <tr>\n",
       "      <th>exposed</th>\n",
       "      <td>2</td>\n",
       "      <td>1</td>\n",
       "    </tr>\n",
       "    <tr>\n",
       "      <th rowspan=\"2\" valign=\"top\">Generic Smartphone</th>\n",
       "      <th>control</th>\n",
       "      <td>139</td>\n",
       "      <td>178</td>\n",
       "    </tr>\n",
       "    <tr>\n",
       "      <th>exposed</th>\n",
       "      <td>182</td>\n",
       "      <td>220</td>\n",
       "    </tr>\n",
       "    <tr>\n",
       "      <th>HTC</th>\n",
       "      <th>exposed</th>\n",
       "      <td>2</td>\n",
       "      <td>2</td>\n",
       "    </tr>\n",
       "    <tr>\n",
       "      <th rowspan=\"2\" valign=\"top\">I3312</th>\n",
       "      <th>control</th>\n",
       "      <td>0</td>\n",
       "      <td>1</td>\n",
       "    </tr>\n",
       "    <tr>\n",
       "      <th>exposed</th>\n",
       "      <td>1</td>\n",
       "      <td>4</td>\n",
       "    </tr>\n",
       "    <tr>\n",
       "      <th rowspan=\"2\" valign=\"top\">LG-$2</th>\n",
       "      <th>control</th>\n",
       "      <td>5</td>\n",
       "      <td>1</td>\n",
       "    </tr>\n",
       "    <tr>\n",
       "      <th>exposed</th>\n",
       "      <td>4</td>\n",
       "      <td>1</td>\n",
       "    </tr>\n",
       "    <tr>\n",
       "      <th rowspan=\"2\" valign=\"top\">MAR-LX1A</th>\n",
       "      <th>control</th>\n",
       "      <td>2</td>\n",
       "      <td>3</td>\n",
       "    </tr>\n",
       "    <tr>\n",
       "      <th>exposed</th>\n",
       "      <td>0</td>\n",
       "      <td>1</td>\n",
       "    </tr>\n",
       "    <tr>\n",
       "      <th rowspan=\"2\" valign=\"top\">MRD-LX1</th>\n",
       "      <th>control</th>\n",
       "      <td>1</td>\n",
       "      <td>1</td>\n",
       "    </tr>\n",
       "    <tr>\n",
       "      <th>exposed</th>\n",
       "      <td>1</td>\n",
       "      <td>1</td>\n",
       "    </tr>\n",
       "    <tr>\n",
       "      <th>Moto $2</th>\n",
       "      <th>exposed</th>\n",
       "      <td>0</td>\n",
       "      <td>4</td>\n",
       "    </tr>\n",
       "    <tr>\n",
       "      <th rowspan=\"2\" valign=\"top\">Nokia</th>\n",
       "      <th>control</th>\n",
       "      <td>3</td>\n",
       "      <td>5</td>\n",
       "    </tr>\n",
       "    <tr>\n",
       "      <th>exposed</th>\n",
       "      <td>8</td>\n",
       "      <td>4</td>\n",
       "    </tr>\n",
       "    <tr>\n",
       "      <th rowspan=\"2\" valign=\"top\">OnePlus</th>\n",
       "      <th>control</th>\n",
       "      <td>1</td>\n",
       "      <td>0</td>\n",
       "    </tr>\n",
       "    <tr>\n",
       "      <th>exposed</th>\n",
       "      <td>3</td>\n",
       "      <td>1</td>\n",
       "    </tr>\n",
       "    <tr>\n",
       "      <th rowspan=\"2\" valign=\"top\">POT-LX1</th>\n",
       "      <th>control</th>\n",
       "      <td>2</td>\n",
       "      <td>4</td>\n",
       "    </tr>\n",
       "    <tr>\n",
       "      <th>exposed</th>\n",
       "      <td>1</td>\n",
       "      <td>1</td>\n",
       "    </tr>\n",
       "    <tr>\n",
       "      <th rowspan=\"2\" valign=\"top\">Pixel</th>\n",
       "      <th>control</th>\n",
       "      <td>4</td>\n",
       "      <td>0</td>\n",
       "    </tr>\n",
       "    <tr>\n",
       "      <th>exposed</th>\n",
       "      <td>3</td>\n",
       "      <td>4</td>\n",
       "    </tr>\n",
       "    <tr>\n",
       "      <th rowspan=\"2\" valign=\"top\">Samsung</th>\n",
       "      <th>control</th>\n",
       "      <td>91</td>\n",
       "      <td>99</td>\n",
       "    </tr>\n",
       "    <tr>\n",
       "      <th>exposed</th>\n",
       "      <td>89</td>\n",
       "      <td>88</td>\n",
       "    </tr>\n",
       "    <tr>\n",
       "      <th rowspan=\"2\" valign=\"top\">VFD</th>\n",
       "      <th>control</th>\n",
       "      <td>0</td>\n",
       "      <td>2</td>\n",
       "    </tr>\n",
       "    <tr>\n",
       "      <th>exposed</th>\n",
       "      <td>1</td>\n",
       "      <td>0</td>\n",
       "    </tr>\n",
       "    <tr>\n",
       "      <th rowspan=\"2\" valign=\"top\">VOG</th>\n",
       "      <th>control</th>\n",
       "      <td>1</td>\n",
       "      <td>1</td>\n",
       "    </tr>\n",
       "    <tr>\n",
       "      <th>exposed</th>\n",
       "      <td>1</td>\n",
       "      <td>3</td>\n",
       "    </tr>\n",
       "    <tr>\n",
       "      <th rowspan=\"2\" valign=\"top\">XiaoMi</th>\n",
       "      <th>control</th>\n",
       "      <td>2</td>\n",
       "      <td>3</td>\n",
       "    </tr>\n",
       "    <tr>\n",
       "      <th>exposed</th>\n",
       "      <td>1</td>\n",
       "      <td>0</td>\n",
       "    </tr>\n",
       "    <tr>\n",
       "      <th rowspan=\"2\" valign=\"top\">iPhone</th>\n",
       "      <th>control</th>\n",
       "      <td>4</td>\n",
       "      <td>10</td>\n",
       "    </tr>\n",
       "    <tr>\n",
       "      <th>exposed</th>\n",
       "      <td>1</td>\n",
       "      <td>3</td>\n",
       "    </tr>\n",
       "    <tr>\n",
       "      <th rowspan=\"2\" valign=\"top\">other</th>\n",
       "      <th>control</th>\n",
       "      <td>5</td>\n",
       "      <td>8</td>\n",
       "    </tr>\n",
       "    <tr>\n",
       "      <th>exposed</th>\n",
       "      <td>7</td>\n",
       "      <td>8</td>\n",
       "    </tr>\n",
       "  </tbody>\n",
       "</table>\n",
       "</div>"
      ],
      "text/plain": [
       "                               yes   no\n",
       "device_make        experiment          \n",
       "ANE-LX1            control       2    2\n",
       "                   exposed       1    1\n",
       "CLT-L09            control       0    3\n",
       "                   exposed       0    2\n",
       "ELE                control       2    1\n",
       "                   exposed       2    1\n",
       "Generic Smartphone control     139  178\n",
       "                   exposed     182  220\n",
       "HTC                exposed       2    2\n",
       "I3312              control       0    1\n",
       "                   exposed       1    4\n",
       "LG-$2              control       5    1\n",
       "                   exposed       4    1\n",
       "MAR-LX1A           control       2    3\n",
       "                   exposed       0    1\n",
       "MRD-LX1            control       1    1\n",
       "                   exposed       1    1\n",
       "Moto $2            exposed       0    4\n",
       "Nokia              control       3    5\n",
       "                   exposed       8    4\n",
       "OnePlus            control       1    0\n",
       "                   exposed       3    1\n",
       "POT-LX1            control       2    4\n",
       "                   exposed       1    1\n",
       "Pixel              control       4    0\n",
       "                   exposed       3    4\n",
       "Samsung            control      91   99\n",
       "                   exposed      89   88\n",
       "VFD                control       0    2\n",
       "                   exposed       1    0\n",
       "VOG                control       1    1\n",
       "                   exposed       1    3\n",
       "XiaoMi             control       2    3\n",
       "                   exposed       1    0\n",
       "iPhone             control       4   10\n",
       "                   exposed       1    3\n",
       "other              control       5    8\n",
       "                   exposed       7    8"
      ]
     },
     "execution_count": 16,
     "metadata": {},
     "output_type": "execute_result"
    }
   ],
   "source": [
    "data.groupby(['device_make', 'experiment'])['yes','no'].sum()"
   ]
  },
  {
   "cell_type": "markdown",
   "id": "b95dca66-423c-4705-8666-0c94ae84467c",
   "metadata": {},
   "source": [
    "As we can see the sample sizes are too small and there is no significant difference between values"
   ]
  },
  {
   "cell_type": "markdown",
   "id": "0d7db612-dc21-4db9-98e0-058570708c80",
   "metadata": {},
   "source": [
    "### Conclusions\n",
    "\n",
    "The new ad design haven't changed the conversion rate basedd on hypothesis testing and confidence interval"
   ]
  }
 ],
 "metadata": {
  "kernelspec": {
   "display_name": "ab_testing",
   "language": "python",
   "name": "ab_testing"
  },
  "language_info": {
   "codemirror_mode": {
    "name": "ipython",
    "version": 3
   },
   "file_extension": ".py",
   "mimetype": "text/x-python",
   "name": "python",
   "nbconvert_exporter": "python",
   "pygments_lexer": "ipython3",
   "version": "3.8.10"
  }
 },
 "nbformat": 4,
 "nbformat_minor": 5
}
